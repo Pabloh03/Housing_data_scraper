{
 "cells": [
  {
   "cell_type": "code",
   "execution_count": null,
   "metadata": {},
   "outputs": [],
   "source": [
    "#Modules to import\n",
    "\n",
    "#For Web Scraping\n",
    "from selenium import webdriver\n",
    "from selenium.webdriver.chrome.options import Options\n",
    "from selenium.webdriver.common.keys import Keys\n",
    "\n",
    "#For data manipulation\n",
    "import pandas as pd\n",
    "import re\n",
    "from datetime import date\n",
    "\n",
    "#To slow down the program when scraping. \n",
    "import time"
   ]
  },
  {
   "cell_type": "code",
   "execution_count": null,
   "metadata": {},
   "outputs": [],
   "source": [
    "PATH = 'Path\\chromedriver.exe'"
   ]
  },
  {
   "cell_type": "code",
   "execution_count": null,
   "metadata": {
    "scrolled": true
   },
   "outputs": [],
   "source": [
    "price = []\n",
    "details = []\n",
    "address = []\n",
    "\n",
    "#Can only run one state at a time. \n",
    "cities = [\"Plano\", \"Richardson\", \"Garland\", \"Sachse\", \"Wylie\", \"Rowlett\", \"Addison\"]\n",
    "state = \"Tx\"\n",
    "\n",
    "#Initial page request.\n",
    "options = webdriver.ChromeOptions()\n",
    "options.add_argument('javascript.enabled')\n",
    "options.add_argument('--disable-blink-features=AutomationControlled')\n",
    "options.add_experimental_option(\"useAutomationExtension\", False)\n",
    "options.add_experimental_option(\"excludeSwitches\",[\"enable-automation\"])\n",
    "options.add_argument(\"--incognito\")\n",
    "options.add_argument(\"--disable-site-isolation-trials\")\n",
    "driver = webdriver.Chrome(executable_path=PATH, options=options)\n",
    "driver.maximize_window()\n",
    "\n",
    "#Scraping realtor.com\n",
    "driver.get('https://www.realtor.com')\n",
    "\n",
    "x = 0\n",
    "for city in cities:\n",
    "    if x == 0:\n",
    "        t =  30\n",
    "    else:\n",
    "        t = 10\n",
    "    element = driver.find_element_by_xpath('//input[@data-testid=\"input-element\"]')\n",
    "    try:\n",
    "        element1 = driver.find_element_by_xpath('//button[@data-testid=\"cancel\"]').click()\n",
    "    except:\n",
    "        pass\n",
    "    time.sleep(5)\n",
    "    element.send_keys(city + \", \" + state)\n",
    "    time.sleep(6)\n",
    "    element.send_keys(Keys.RETURN)\n",
    "    \n",
    "    time.sleep(t)\n",
    "    page_num = []\n",
    "    last_page = 0\n",
    "    num_pages = []\n",
    "\n",
    "    num_pages = driver.find_elements_by_xpath('//div[@data-testid=\"pagination\"]//a[@class=\"item btn \"]')\n",
    "    if len(num_pages) > 0:\n",
    "        for num in num_pages[:len(num_pages) - 1]:\n",
    "            page_num.append(int(num.text))\n",
    "        last_page = max(page_num)\n",
    "    else:\n",
    "        last_page = 1\n",
    "\n",
    "    for page in range(last_page):\n",
    "\n",
    "        time.sleep(10)\n",
    "        house_price = []\n",
    "        house_details = []\n",
    "        house_address = []\n",
    "        \n",
    "        \n",
    "    \n",
    "        house_price = driver.find_elements_by_xpath('//li[@data-testid=\"result-card\"]//div[@data-label=\"property-card\"]//div[@data-label=\"pc-price-wrapper\"]')\n",
    "        house_details = driver.find_elements_by_xpath('//li[@data-testid=\"result-card\"]//div[@data-label=\"property-card\"]//div[@data-testid=\"property-meta-container\"]')\n",
    "        house_address = driver.find_elements_by_xpath('//li[@data-testid=\"result-card\"]//div[@data-label=\"property-card\"]//div[@data-label=\"pc-address\"]')\n",
    "    \n",
    "        for item in range(len(house_price) - 1):\n",
    "            price.append(house_price[item].text)\n",
    "            details.append(house_details[item].text)\n",
    "            address.append(house_address[item].text)\n",
    "        \n",
    "        if (page + 1) < last_page:\n",
    "            next_page = driver.find_elements_by_xpath('//div[@data-testid=\"pagination\"]//a[@class=\"item btn \"]')[-1].click()\n",
    "        \n",
    "        x += 1\n",
    "        time.sleep(10)\n",
    "\n",
    "driver.close()"
   ]
  },
  {
   "cell_type": "code",
   "execution_count": null,
   "metadata": {},
   "outputs": [],
   "source": [
    "#Functions to clean scrape data.\n",
    "def house_details(str, detail):\n",
    "    found = re.search(r'([0-9]*\\.?,?[0-9]+)(' + detail + ')' , str)\n",
    "    if found:\n",
    "        if found.group(2) == 'acre lot':\n",
    "            return float(found.group(1).replace(\",\", \"\")) * 43560\n",
    "        else:\n",
    "            return float(found.group(1).replace(\",\", \"\"))\n",
    "    else:\n",
    "        return None\n",
    "\n",
    "def prices(str):\n",
    "    found = re.search(r'(\\$)([0-9]*,?[0-9]*,?[0-9]*)', str)\n",
    "    if found:\n",
    "        return int(found.group(2).replace(\",\", \"\"))\n",
    "    return 0\n",
    "\n",
    "def address_breakdown(address, part):\n",
    "    ab = re.search(r'([0-9 A-Z a-z]+ [A-Z a-z 0-9]+),\\n([A-Z, a-z]+), TX (7[0-9]{4})', address)\n",
    "    apt = re.search(r'(Apt | Lot | Unit )', address)\n",
    "    if apt:\n",
    "        apt = \"Y\"\n",
    "    else:\n",
    "        apt = \"N\"\n",
    "    if ab:\n",
    "        breakdown = [ab.group(1), ab.group(2), ab.group(3), apt]\n",
    "    else:\n",
    "        return \"No match found\"\n",
    "    return breakdown[part]"
   ]
  },
  {
   "cell_type": "code",
   "execution_count": null,
   "metadata": {},
   "outputs": [],
   "source": [
    "houses = []\n",
    "for entry in range(len(price)):\n",
    "    houses.append([price[entry], details[entry], address[entry]])\n",
    "data = pd.DataFrame(houses, columns=['Price', 'House Details', 'Address'])\n",
    "today = date.today().strftime(\"%Y-%m-%d\")"
   ]
  },
  {
   "cell_type": "code",
   "execution_count": null,
   "metadata": {},
   "outputs": [],
   "source": [
    "data['Date'] = today"
   ]
  },
  {
   "cell_type": "code",
   "execution_count": null,
   "metadata": {},
   "outputs": [],
   "source": [
    "data['Price'] = data['Price'].apply(prices).astype('int64')"
   ]
  },
  {
   "cell_type": "code",
   "execution_count": null,
   "metadata": {},
   "outputs": [],
   "source": [
    "data['Beds'] = data['House Details'].apply(house_details, args=(\"bed\",)).astype('float64')"
   ]
  },
  {
   "cell_type": "code",
   "execution_count": null,
   "metadata": {},
   "outputs": [],
   "source": [
    "data['Baths'] = data['House Details'].apply(house_details, args=(\"bath\",)).astype('float64')"
   ]
  },
  {
   "cell_type": "code",
   "execution_count": null,
   "metadata": {},
   "outputs": [],
   "source": [
    "data['House sqft'] = data['House Details'].apply(house_details, args=(\"sqft\",)).astype('float64')"
   ]
  },
  {
   "cell_type": "code",
   "execution_count": null,
   "metadata": {},
   "outputs": [],
   "source": [
    "data['Lot sqft'] = data['House Details'].apply(house_details, args=(\"[a-z]+ lot\",)).astype('float64')"
   ]
  },
  {
   "cell_type": "code",
   "execution_count": null,
   "metadata": {},
   "outputs": [],
   "source": [
    "data['Street'] = data['Address'].apply(address_breakdown, args=(0,))"
   ]
  },
  {
   "cell_type": "code",
   "execution_count": null,
   "metadata": {},
   "outputs": [],
   "source": [
    "data['City'] = data['Address'].apply(address_breakdown, args=(1,))"
   ]
  },
  {
   "cell_type": "code",
   "execution_count": null,
   "metadata": {},
   "outputs": [],
   "source": [
    "data['State'] = State"
   ]
  },
  {
   "cell_type": "code",
   "execution_count": null,
   "metadata": {},
   "outputs": [],
   "source": [
    "data['Zipcode'] = data['Address'].apply(address_breakdown, args=(2,))"
   ]
  },
  {
   "cell_type": "code",
   "execution_count": null,
   "metadata": {},
   "outputs": [],
   "source": [
    "data['Apt (Y/N)'] = data['Address'].apply(address_breakdown, args=(3,))"
   ]
  },
  {
   "cell_type": "code",
   "execution_count": null,
   "metadata": {},
   "outputs": [],
   "source": [
    "data = data[['Date', 'Price', 'Street', 'City', 'State', 'Zipcode', 'Apt (Y/N)', 'Beds', 'Baths', 'House sqft', 'Lot sqft']]"
   ]
  },
  {
   "cell_type": "code",
   "execution_count": null,
   "metadata": {},
   "outputs": [],
   "source": [
    "data['Full Address'] = data['Street'] + ', ' + data[['City', 'State', 'Zipcode']] .agg(' '.join, axis=1)data = data[(data['Street'] != \"No match found\") & (data.City.isin(cities))]"
   ]
  },
  {
   "cell_type": "code",
   "execution_count": null,
   "metadata": {},
   "outputs": [],
   "source": [
    "data = data[(data['Price'] > 0 )]"
   ]
  },
  {
   "cell_type": "code",
   "execution_count": null,
   "metadata": {},
   "outputs": [],
   "source": [
    "data.fillna({'Beds':'NULL', 'Baths':'NULL', 'House sqft':'NULL', 'Lot sqft':'NULL'}, inplace=True)"
   ]
  },
  {
   "cell_type": "code",
   "execution_count": null,
   "metadata": {},
   "outputs": [],
   "source": [
    "#Saves it to an excel file. \n",
    "data.to_excel(r\"Path\\\\\" + today + \" Housing Data.xlsx\",\n",
    "             sheet_name='Housing Data', index=False)"
   ]
  }
 ],
 "metadata": {
  "kernelspec": {
   "display_name": "Python 3",
   "language": "python",
   "name": "python3"
  },
  "language_info": {
   "codemirror_mode": {
    "name": "ipython",
    "version": 3
   },
   "file_extension": ".py",
   "mimetype": "text/x-python",
   "name": "python",
   "nbconvert_exporter": "python",
   "pygments_lexer": "ipython3",
   "version": "3.8.5"
  }
 },
 "nbformat": 4,
 "nbformat_minor": 4
}
